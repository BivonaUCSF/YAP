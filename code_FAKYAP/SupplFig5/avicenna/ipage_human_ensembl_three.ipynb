{
 "cells": [
  {
   "cell_type": "markdown",
   "metadata": {},
   "source": [
    "# This is used for running data vs all human ensembl databases\n",
    "### /nvme/bins/iPAGEv1.0/PAGE_DATA/ANNOTATIONS/human_ensembl*"
   ]
  },
  {
   "cell_type": "code",
   "execution_count": 1,
   "metadata": {},
   "outputs": [],
   "source": [
    "import os\n",
    "import pandas as pd\n",
    "import numpy as np\n",
    "import matplotlib.pyplot as plt\n",
    "import pickle\n",
    "import seaborn as sns\n",
    "import scipy.stats\n"
   ]
  },
  {
   "cell_type": "code",
   "execution_count": 2,
   "metadata": {},
   "outputs": [],
   "source": [
    "###generate databases to loop through\n",
    "cmd = \"ls -d /nvme/bins/iPAGEv1.0/PAGE_DATA/ANNOTATIONS/human_ensembl*\"\n",
    "### save as list for looping\n",
    "databases = os.popen(cmd).read().split('\\n')\n",
    "##format\n",
    "tmp = []\n",
    "for db in databases:\n",
    "    tmp.append(db.split('/')[-1])\n",
    "databases = tmp.copy()\n",
    "databases = list(filter(None,databases))"
   ]
  },
  {
   "cell_type": "markdown",
   "metadata": {},
   "source": [
    "### get ensembl genes represented in iPAGE database"
   ]
  },
  {
   "cell_type": "code",
   "execution_count": 3,
   "metadata": {},
   "outputs": [],
   "source": [
    "%%bash \n",
    "\n",
    "cp /nvme/bins/iPAGEv1.0/PAGE_DATA/ANNOTATIONS/human_ensembl_msigdb_c6/human_ensembl_msigdb_c6_index.txt human_ensembl_index.txt\n",
    "awk -F '\\t' '{print $1}' human_ensembl_index.txt > ensembl_index.txt"
   ]
  },
  {
   "cell_type": "code",
   "execution_count": 4,
   "metadata": {},
   "outputs": [
    {
     "data": {
      "text/plain": [
       "['human_ensembl',\n",
       " 'human_ensembl_encode_tf',\n",
       " 'human_ensembl_msigdb_c1',\n",
       " 'human_ensembl_msigdb_c2',\n",
       " 'human_ensembl_msigdb_c3',\n",
       " 'human_ensembl_msigdb_c4',\n",
       " 'human_ensembl_msigdb_c5',\n",
       " 'human_ensembl_msigdb_c6',\n",
       " 'human_ensembl_msigdb_c7',\n",
       " 'human_ensembl_msigdb_full',\n",
       " 'human_ensembl_msigdb_h',\n",
       " 'human_ensembl_RBPs_all_gene_ids',\n",
       " 'human_ensembl_RBPs_all_gene_names',\n",
       " 'human_ensembl_RBPs_coding_gene_ids',\n",
       " 'human_ensembl_RBPs_coding_gene_ids_by_3UTR',\n",
       " 'human_ensembl_RBPs_coding_gene_ids_by_5UTR',\n",
       " 'human_ensembl_RBPs_coding_gene_ids_by_coding_exons',\n",
       " 'human_ensembl_RBPs_coding_gene_ids_by_introns',\n",
       " 'human_ensembl_RBPs_DeepBind']"
      ]
     },
     "execution_count": 4,
     "metadata": {},
     "output_type": "execute_result"
    }
   ],
   "source": [
    "databases"
   ]
  },
  {
   "cell_type": "markdown",
   "metadata": {},
   "source": [
    "### Formatting\n",
    "##### make sure that genes in file match the index "
   ]
  },
  {
   "cell_type": "code",
   "execution_count": 5,
   "metadata": {},
   "outputs": [
    {
     "name": "stdout",
     "output_type": "stream",
     "text": [
      "(14296, 1)\n"
     ]
    }
   ],
   "source": [
    "####define index file to loop through\n",
    "FCfilename = 'log2FC_3_4.tsv'\n",
    "subpath = 'ipage_outs_3/'\n",
    "####\n",
    "os.system('mkdir '+subpath)\n",
    "FCfile = pd.read_csv(FCfilename,sep='\\t',index_col=0,header=None)\n",
    "FCfile.columns = ['log10fc']\n",
    "####get list of ENSG gene names\n",
    "ENSG = list(set(pd.read_csv('ensembl_index.txt',index_col=0).index.tolist()))\n",
    "####convert gene names to ENSG\n",
    "##read in dict\n",
    "ENSGdict = pd.read_csv('ENSG_geneID.dict',sep='\\t',index_col=1).to_dict()['Gene stable ID']\n",
    "##define dict function\n",
    "def switch_names(lookup,dictionary):\n",
    "    if lookup in dictionary:\n",
    "        return dictionary[lookup]\n",
    "    else:\n",
    "        return np.nan\n",
    "##convert to ENSG\n",
    "FCfile.index = FCfile.apply(lambda row: switch_names(row.name,ENSGdict),axis=1)\n",
    "##drop nans\n",
    "FCfile = FCfile.loc[FCfile.index!=np.nan]\n",
    "FCfile = FCfile.dropna()\n",
    "##format columns\n",
    "FCfile.columns = ['log2FoldChange']\n",
    "FCfile.index.names = ['Gene']\n",
    "##save formatted DF, one for each database\n",
    "savefile = []\n",
    "for i in range(len(databases)):\n",
    "    ###make subfolder\n",
    "    cmd = 'mkdir '+subpath+databases[i]\n",
    "    os.system(cmd)\n",
    "    ###save a copy of the FC file to subfolder\n",
    "    tmpfile = subpath+databases[i]+'/'+FCfilename\n",
    "    FCfile.to_csv(tmpfile,sep='\\t',header=True)\n",
    "    savefile.append(tmpfile)\n",
    "print(FCfile.shape)"
   ]
  },
  {
   "cell_type": "markdown",
   "metadata": {},
   "source": [
    "### Excecute the script"
   ]
  },
  {
   "cell_type": "code",
   "execution_count": 6,
   "metadata": {},
   "outputs": [],
   "source": [
    "##get cwd\n",
    "cwd = os.getcwd()+\"/\"\n",
    "###write final iPAGE command to an ipage .sh file\n",
    "for i in range(len(databases)):\n",
    "    iPAGE_cmd = \"perl /nvme/bins/iPAGEv1.0/page.pl --expfile \"+ \\\n",
    "                cwd+savefile[i]+\" --species=\"+databases[i]+ \\\n",
    "                \" --exptype=continuous --ebins=9 \\n\"\n",
    "    os.system(iPAGE_cmd)\n"
   ]
  },
  {
   "cell_type": "code",
   "execution_count": 7,
   "metadata": {},
   "outputs": [
    {
     "data": {
      "text/plain": [
       "['human_ensembl',\n",
       " 'human_ensembl_encode_tf',\n",
       " 'human_ensembl_msigdb_c1',\n",
       " 'human_ensembl_msigdb_c2',\n",
       " 'human_ensembl_msigdb_c3',\n",
       " 'human_ensembl_msigdb_c4',\n",
       " 'human_ensembl_msigdb_c5',\n",
       " 'human_ensembl_msigdb_c6',\n",
       " 'human_ensembl_msigdb_c7',\n",
       " 'human_ensembl_msigdb_full',\n",
       " 'human_ensembl_msigdb_h',\n",
       " 'human_ensembl_RBPs_all_gene_ids',\n",
       " 'human_ensembl_RBPs_all_gene_names',\n",
       " 'human_ensembl_RBPs_coding_gene_ids',\n",
       " 'human_ensembl_RBPs_coding_gene_ids_by_3UTR',\n",
       " 'human_ensembl_RBPs_coding_gene_ids_by_5UTR',\n",
       " 'human_ensembl_RBPs_coding_gene_ids_by_coding_exons',\n",
       " 'human_ensembl_RBPs_coding_gene_ids_by_introns',\n",
       " 'human_ensembl_RBPs_DeepBind']"
      ]
     },
     "execution_count": 7,
     "metadata": {},
     "output_type": "execute_result"
    }
   ],
   "source": [
    "databases"
   ]
  },
  {
   "cell_type": "markdown",
   "metadata": {},
   "source": [
    "## then run the command from this folder:\n",
    "\n",
    "nohup sh run.sh iPAGE_JY.sh &"
   ]
  },
  {
   "cell_type": "code",
   "execution_count": null,
   "metadata": {},
   "outputs": [],
   "source": [
    "len(databases[0])"
   ]
  },
  {
   "cell_type": "code",
   "execution_count": null,
   "metadata": {},
   "outputs": [],
   "source": [
    "####open file and loop through each line\n",
    "###\n",
    "iPAGE_sh = \"iPAGE_JY.sh\"\n",
    "cwd = os.getcwd()+\"/\"\n",
    "os.system(\"rm \"+iPAGE_sh)\n",
    "###\n",
    "with open(index_file,'r') as rf:\n",
    "    for line in rf:\n",
    "        #####do this to each file\n",
    "        ###read in file into pandas df\n",
    "        FC_file = line.split('\\n')[0]\n",
    "        FC_df = pd.read_csv(FC_file,sep=',',index_col=0)\n",
    "        FC_df.columns = ['log2FoldChange']\n",
    "        FC_df.index.names = ['Gene']\n",
    "        ###filter\n",
    "        FC_df = FC_df.loc[[x for x in FC_df.index if x in genes_with_GOs_set]]\n",
    "        ###save\n",
    "        save_file = \"fc_values/filt_\"+line.split('\\n')[0]\n",
    "        FC_df.to_csv(save_file,sep='\\t',header=True)\n",
    "        ###write final iPAGE command to an ipage .sh file\n",
    "        iPAGE_cmd = \"perl /nvme/bins/iPAGEv1.0/page.pl --expfile \"+cwd+save_file+\" --species=human_ensembl_msigdb_c6 --exptype=continuous --ebins=9 \\n\"\n",
    "        with open(iPAGE_sh, \"a\") as myfile:\n",
    "            myfile.write(iPAGE_cmd)\n"
   ]
  }
 ],
 "metadata": {
  "kernelspec": {
   "display_name": "Python 3",
   "language": "python",
   "name": "python3"
  },
  "language_info": {
   "codemirror_mode": {
    "name": "ipython",
    "version": 3
   },
   "file_extension": ".py",
   "mimetype": "text/x-python",
   "name": "python",
   "nbconvert_exporter": "python",
   "pygments_lexer": "ipython3",
   "version": "3.6.8"
  }
 },
 "nbformat": 4,
 "nbformat_minor": 4
}
